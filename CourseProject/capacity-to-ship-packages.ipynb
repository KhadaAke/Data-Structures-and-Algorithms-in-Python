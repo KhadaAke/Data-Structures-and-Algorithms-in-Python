{
 "cells": [
  {
   "cell_type": "markdown",
   "id": "8a7c68c5",
   "metadata": {},
   "source": [
    "# Capacity To Ship Packages Within D Days"
   ]
  },
  {
   "cell_type": "code",
   "execution_count": 15,
   "id": "9abfab50",
   "metadata": {},
   "outputs": [],
   "source": [
    "project_name = 'capacity-to-ship-packages'"
   ]
  },
  {
   "cell_type": "code",
   "execution_count": 16,
   "id": "ec68f216",
   "metadata": {},
   "outputs": [],
   "source": [
    "!pip install jovian --upgrade --quiet"
   ]
  },
  {
   "cell_type": "code",
   "execution_count": 17,
   "id": "2eac55b4",
   "metadata": {},
   "outputs": [],
   "source": [
    "import jovian"
   ]
  },
  {
   "cell_type": "code",
   "execution_count": null,
   "id": "e3c1ebee",
   "metadata": {},
   "outputs": [
    {
     "data": {
      "application/javascript": [
       "window.require && require([\"base/js/namespace\"],function(Jupyter){Jupyter.notebook.save_checkpoint()})"
      ],
      "text/plain": [
       "<IPython.core.display.Javascript object>"
      ]
     },
     "metadata": {},
     "output_type": "display_data"
    }
   ],
   "source": [
    "jovian.commit(project=project_name)"
   ]
  },
  {
   "cell_type": "markdown",
   "id": "81daca42",
   "metadata": {},
   "source": [
    "## Problem Statement\n",
    "\n",
    "\n",
    "> A conveyor belt has packages that must be shipped from one port to another within days days.\n",
    "\n",
    "The ith package on the conveyor belt has a weight of weights[i]. Each day, we load the ship with packages on the conveyor belt (in the order given by weights). We may not load more weight than the maximum weight capacity of the ship.\n",
    "\n",
    "Return the least weight capacity of the ship that will result in all the packages on the conveyor belt being shipped within days days.\n",
    "\n",
    "\n",
    "Source: https://leetcode.com/problems/capacity-to-ship-packages-within-d-days"
   ]
  },
  {
   "cell_type": "markdown",
   "id": "dd3b90c8",
   "metadata": {},
   "source": [
    "## The Method\n",
    "\n",
    "Here's the systematic strategy we'll apply for solving problems:\n",
    "\n",
    "1. State the problem clearly. Identify the input & output formats.\n",
    "2. Come up with some example inputs & outputs. Try to cover all edge cases.\n",
    "3. Come up with a correct solution for the problem. State it in plain English.\n",
    "4. Implement the solution and test it using example inputs. Fix bugs, if any.\n",
    "5. Analyze the algorithm's complexity and identify inefficiencies, if any.\n",
    "6. Apply the right technique to overcome the inefficiency. Repeat steps 3 to 6.\n",
    "\n",
    "This approach is explained in detail in [Lesson 1](https://jovian.ai/learn/data-structures-and-algorithms-in-python/lesson/lesson-1-binary-search-linked-lists-and-complexity) of the course. Let's apply this approach step-by-step."
   ]
  },
  {
   "cell_type": "markdown",
   "id": "81af56e5",
   "metadata": {},
   "source": [
    "## Solution\n",
    "\n",
    "\n",
    "### 1. State the problem clearly. Identify the input & output formats.\n",
    "\n",
    "While this problem is stated clearly enough, it's always useful to try and express in your own words, in a way that makes it most clear for you. \n",
    "\n",
    "\n",
    "**Problem**\n",
    "\n",
    "> A conveyor belt has packages that need to be shipped from one port to another within a certain number of days.\n",
    "Each package on the conveyor belt has a weight and, each day the ship is loaded with packages on the conveyor belt, the packages are ordered by the weight. We cannot load more weight than the maximum weight capacity of the ship. Our function should return the least weight capacity of the ship that will result in all the packages on the conveyor belt being shipped within a certain number of days.\n",
    "\n",
    "<br/>\n",
    "\n",
    "\n",
    "**Input**\n",
    "\n",
    "1. weights: A list of integers denoting the weights of the packages\n",
    "2. days: An integer denoting the number of days.\n",
    "\n",
    "**Output**\n",
    "\n",
    "1. capacity: An integer denoting the minimum weight capacity of the ship that is needed\n",
    "\n",
    "\n",
    "<br/>\n",
    "\n",
    "Based on the above, we can now create a signature of our function:"
   ]
  },
  {
   "cell_type": "code",
   "execution_count": 5,
   "id": "47744dde",
   "metadata": {},
   "outputs": [],
   "source": [
    "def shipWithinDays(weights, days):\n",
    "    pass"
   ]
  },
  {
   "cell_type": "markdown",
   "id": "92804e6a",
   "metadata": {},
   "source": [
    "Save and upload your work before continuing."
   ]
  },
  {
   "cell_type": "code",
   "execution_count": null,
   "id": "ebce8f03",
   "metadata": {},
   "outputs": [],
   "source": [
    "import jovian"
   ]
  },
  {
   "cell_type": "code",
   "execution_count": null,
   "id": "a8c86ee6",
   "metadata": {},
   "outputs": [],
   "source": [
    "jovian.commit()"
   ]
  },
  {
   "cell_type": "markdown",
   "id": "30459605",
   "metadata": {},
   "source": [
    "### 2. Come up with some example inputs & outputs. Try to cover all edge cases.\n",
    "\n",
    "Our function should be able to handle any set of valid inputs we pass into it. Here's a list of some possible variations we might encounter:\n",
    "\n",
    "1. An empty weights list.\n",
    "2. 0 days.\n",
    "3. A single weight.\n",
    "4. All packages need to be shipped in a single day.\n",
    "5. Each package can be shipped individually.\n",
    "6. List of 10000 weights where each weight is 1\n",
    "\n",
    "\n",
    "We'll express our test cases as dictionaries, to test them easily. Each dictionary will contain 2 keys: `input` (a dictionary itself containing one key for each argument to the function and `output` (the expected result from the function). "
   ]
  },
  {
   "cell_type": "code",
   "execution_count": 6,
   "id": "98a228b0",
   "metadata": {},
   "outputs": [],
   "source": [
    "test1 = {\n",
    "    'input': {\n",
    "            'weights': [],\n",
    "            'days': 5\n",
    "        },\n",
    "        'output': 0\n",
    "    }\n",
    "\n",
    "test2 = {\n",
    "    'input': {\n",
    "            'weights': [10, 20, 30, 40, 50],\n",
    "            'days': 0\n",
    "        },\n",
    "        'output': 0\n",
    "}\n",
    "\n",
    "test3 = {\n",
    "    'input': {\n",
    "            'weights': [5],\n",
    "            'days': 1\n",
    "        },\n",
    "        'output': 5\n",
    "}\n",
    "\n",
    "test4 = {\n",
    "    'input': {\n",
    "            'weights': [1, 2, 3, 4, 5],\n",
    "            'days': 1\n",
    "        },\n",
    "        'output': 15\n",
    "}\n",
    "\n",
    "test5 = {\n",
    "    'input': {\n",
    "            'weights': [1, 2, 3, 4, 5],\n",
    "            'days': 5\n",
    "        },\n",
    "        'output': 5\n",
    "}\n",
    "test6 = {\n",
    "    'input': {\n",
    "        'weights': [1] * 10000,\n",
    "        'days': 10\n",
    "    },\n",
    "    'output': 1000\n",
    "}"
   ]
  },
  {
   "cell_type": "markdown",
   "id": "45cb6815",
   "metadata": {},
   "source": [
    "Create one test case for each of the scenarios listed above. We'll store our test cases in an array called `tests`."
   ]
  },
  {
   "cell_type": "code",
   "execution_count": 7,
   "id": "beba8cef",
   "metadata": {},
   "outputs": [],
   "source": [
    "tests = [test1, test2, test3, test4, test5, test6]"
   ]
  },
  {
   "cell_type": "markdown",
   "id": "c5b69deb",
   "metadata": {},
   "source": [
    "### 3. Come up with a correct solution for the problem. State it in plain English.\n",
    "\n",
    "Our first goal should always be to come up with a _correct_ solution to the problem, which may not necessarily be the most _efficient_ solution. Come with a correct solution and explain it in simple words below:\n",
    "\n",
    "1. Check if the weights list is empty or if the number of days is 0 or negative. If any of these conditions are true, return 0 as the output.\n",
    "2. Find the maximum weight in the weights list and store it in the variable max_weight and calculate the total weight of all packages in the weights list and store it in the variable total_weight.\n",
    "3. Iterate through the range of capacities from max_weight to total_weight + 1 and for each capacity initialize required_days to 1 and current_load to 0.\n",
    "4. Simulate the loading process by iterating through the weights list\n",
    "5. After simulating the loading process, check if the required_days is less than or equal to the given number of days.\n",
    "6. If no capacity satisfies the condition return the total_weight as the minimum weight capacity required\n",
    "\n",
    "Let's save and upload our work before continuing.\n",
    "\n",
    "\n"
   ]
  },
  {
   "cell_type": "code",
   "execution_count": null,
   "id": "fdeced6a",
   "metadata": {},
   "outputs": [],
   "source": [
    "jovian.commit()"
   ]
  },
  {
   "cell_type": "markdown",
   "id": "8ddbc6df",
   "metadata": {},
   "source": [
    "###  4. Implement the solution and test it using example inputs. Fix bugs, if any."
   ]
  },
  {
   "cell_type": "code",
   "execution_count": 8,
   "id": "d459e85b",
   "metadata": {},
   "outputs": [],
   "source": [
    "def shipWithinDays(weights, days):\n",
    "    if not weights or days <= 0:  # If the weights list is empty or days is 0 or negative\n",
    "        return 0\n",
    "\n",
    "    max_weight = max(weights)\n",
    "    total_weight = sum(weights)\n",
    "\n",
    "    # Iterate from the maximum weight to the total weight\n",
    "    for capacity in range(max_weight, total_weight + 1):\n",
    "        required_days = 1\n",
    "        current_load = 0\n",
    "\n",
    "        # The loading process\n",
    "        for weight in weights:\n",
    "            if current_load + weight > capacity:\n",
    "                required_days += 1\n",
    "                current_load = 0\n",
    "\n",
    "            current_load += weight\n",
    "\n",
    "        if required_days <= days:\n",
    "            return capacity\n",
    "\n",
    "    return total_weight"
   ]
  },
  {
   "cell_type": "markdown",
   "id": "07732fc3",
   "metadata": {},
   "source": [
    "We can test the function by passing the input to it directly or by using the `evaluate_test_case` function from `jovian`."
   ]
  },
  {
   "cell_type": "code",
   "execution_count": 9,
   "id": "647ea065",
   "metadata": {},
   "outputs": [],
   "source": [
    "from jovian.pythondsa import evaluate_test_cases"
   ]
  },
  {
   "cell_type": "code",
   "execution_count": 10,
   "id": "cc2363bc",
   "metadata": {
    "scrolled": true
   },
   "outputs": [
    {
     "name": "stdout",
     "output_type": "stream",
     "text": [
      "\n",
      "\u001b[1mTEST CASE #0\u001b[0m\n",
      "\n",
      "Input:\n",
      "{'weights': [], 'days': 5}\n",
      "\n",
      "Expected Output:\n",
      "0\n",
      "\n",
      "\n",
      "Actual Output:\n",
      "0\n",
      "\n",
      "Execution Time:\n",
      "0.003 ms\n",
      "\n",
      "Test Result:\n",
      "\u001b[92mPASSED\u001b[0m\n",
      "\n",
      "\n",
      "\u001b[1mTEST CASE #1\u001b[0m\n",
      "\n",
      "Input:\n",
      "{'weights': [10, 20, 30, 40, 50], 'days': 0}\n",
      "\n",
      "Expected Output:\n",
      "0\n",
      "\n",
      "\n",
      "Actual Output:\n",
      "0\n",
      "\n",
      "Execution Time:\n",
      "0.002 ms\n",
      "\n",
      "Test Result:\n",
      "\u001b[92mPASSED\u001b[0m\n",
      "\n",
      "\n",
      "\u001b[1mTEST CASE #2\u001b[0m\n",
      "\n",
      "Input:\n",
      "{'weights': [5], 'days': 1}\n",
      "\n",
      "Expected Output:\n",
      "5\n",
      "\n",
      "\n",
      "Actual Output:\n",
      "5\n",
      "\n",
      "Execution Time:\n",
      "0.005 ms\n",
      "\n",
      "Test Result:\n",
      "\u001b[92mPASSED\u001b[0m\n",
      "\n",
      "\n",
      "\u001b[1mTEST CASE #3\u001b[0m\n",
      "\n",
      "Input:\n",
      "{'weights': [1, 2, 3, 4, 5], 'days': 1}\n",
      "\n",
      "Expected Output:\n",
      "15\n",
      "\n",
      "\n",
      "Actual Output:\n",
      "15\n",
      "\n",
      "Execution Time:\n",
      "0.008 ms\n",
      "\n",
      "Test Result:\n",
      "\u001b[92mPASSED\u001b[0m\n",
      "\n",
      "\n",
      "\u001b[1mTEST CASE #4\u001b[0m\n",
      "\n",
      "Input:\n",
      "{'weights': [1, 2, 3, 4, 5], 'days': 5}\n",
      "\n",
      "Expected Output:\n",
      "5\n",
      "\n",
      "\n",
      "Actual Output:\n",
      "5\n",
      "\n",
      "Execution Time:\n",
      "0.003 ms\n",
      "\n",
      "Test Result:\n",
      "\u001b[92mPASSED\u001b[0m\n",
      "\n",
      "\n",
      "\u001b[1mTEST CASE #5\u001b[0m\n",
      "\n",
      "Input:\n",
      "{'weights': [1, 1, 1, 1, 1, 1, 1, 1, 1, 1, 1, 1, 1, 1, 1, 1, 1, 1, 1, 1, 1, 1, 1, 1, 1, 1, 1, 1, 1, ...\n",
      "\n",
      "Expected Output:\n",
      "1000\n",
      "\n",
      "\n",
      "Actual Output:\n",
      "1000\n",
      "\n",
      "Execution Time:\n",
      "770.736 ms\n",
      "\n",
      "Test Result:\n",
      "\u001b[92mPASSED\u001b[0m\n",
      "\n",
      "\n",
      "\u001b[1mSUMMARY\u001b[0m\n",
      "\n",
      "TOTAL: 6, \u001b[92mPASSED\u001b[0m: 6, \u001b[91mFAILED\u001b[0m: 0\n"
     ]
    },
    {
     "data": {
      "text/plain": [
       "[(0, True, 0.003),\n",
       " (0, True, 0.002),\n",
       " (5, True, 0.005),\n",
       " (15, True, 0.008),\n",
       " (5, True, 0.003),\n",
       " (1000, True, 770.736)]"
      ]
     },
     "execution_count": 10,
     "metadata": {},
     "output_type": "execute_result"
    }
   ],
   "source": [
    "evaluate_test_cases(shipWithinDays, tests)"
   ]
  },
  {
   "cell_type": "markdown",
   "id": "5d25f6f2",
   "metadata": {},
   "source": [
    "Evaluate your function against all the test cases together using the `evaluate_test_cases` (plural) function from `jovian`."
   ]
  },
  {
   "cell_type": "markdown",
   "id": "f4fe23cf",
   "metadata": {},
   "source": [
    "Verify that all the test cases were evaluated. We expect them all to fail, since we haven't implemented the function yet.\n",
    "\n",
    "Let's save our work before continuing."
   ]
  },
  {
   "cell_type": "code",
   "execution_count": null,
   "id": "ba755f6e",
   "metadata": {},
   "outputs": [],
   "source": [
    "jovian.commit()"
   ]
  },
  {
   "cell_type": "code",
   "execution_count": null,
   "id": "8d0a9308",
   "metadata": {},
   "outputs": [],
   "source": []
  },
  {
   "cell_type": "markdown",
   "id": "2ca1d920",
   "metadata": {},
   "source": [
    "### 5. Analyze the algorithm's complexity and identify inefficiencies, if any."
   ]
  },
  {
   "cell_type": "markdown",
   "id": "9a7b0e94",
   "metadata": {},
   "source": [
    "### Time complexity:\n",
    "* Finding the maximum weight and calculating the total sum both have a time complexity of O(n), where n is the length of the weights list.\n",
    "* The outer loop iterates from the maximum weight to the total weight. The number of iterations in the worst case is O(total_weight - max_weight). In terms of time complexity, we consider the worst case as when the difference between the maximum weight and the total weight is significant. So, the worst-case time complexity of the outer loop is O(total_weight).\n",
    "* The inner loop iterates over each weight in the weights list so the time complexity is O(n).\n",
    "* The time complexity of the algorithm is O(n * total_weight) in the worst case, where n is the length of the weights list and total_weight is the sum of all weights."
   ]
  },
  {
   "cell_type": "markdown",
   "id": "dcdae2a4",
   "metadata": {},
   "source": [
    "### Space complexity:\n",
    "The space complexity of the algorithm is O(1) because it does not utilize any additional data structures that grow with the input size."
   ]
  },
  {
   "cell_type": "markdown",
   "id": "87100796",
   "metadata": {},
   "source": [
    "### Inefficiency:\n",
    "The iteration through the range of capacities is the inefficiency because if the difference between the maximum weight and the total weight is large, the iteration may need to go through a large number of capacities."
   ]
  },
  {
   "cell_type": "code",
   "execution_count": null,
   "id": "fd15989b",
   "metadata": {},
   "outputs": [],
   "source": [
    "jovian.commit()"
   ]
  },
  {
   "cell_type": "markdown",
   "id": "d8680a44",
   "metadata": {},
   "source": [
    "### 6. Apply the right technique to overcome the inefficiency. Repeat steps 3 to 6."
   ]
  },
  {
   "cell_type": "markdown",
   "id": "c08df2e1",
   "metadata": {},
   "source": [
    "The inefficiency can be improved by using a more efficient search algorithm such as the binary search algorithm"
   ]
  },
  {
   "cell_type": "code",
   "execution_count": null,
   "id": "d5ed55c3",
   "metadata": {},
   "outputs": [],
   "source": []
  },
  {
   "cell_type": "code",
   "execution_count": null,
   "id": "22db3d39",
   "metadata": {},
   "outputs": [],
   "source": [
    "jovian.commit()"
   ]
  },
  {
   "cell_type": "markdown",
   "id": "f7258ac7",
   "metadata": {},
   "source": [
    "### 7. Come up with a correct solution for the problem. State it in plain English.\n",
    "\n",
    "Come with the optimized correct solution and explain it in simple words below:\n",
    "\n",
    "1. Set a left variable as the maximum weight and a right variable as the sum of all weights \n",
    "2. Perform binary search to find the minimum weight capacity that can ship all packages within the days.\n",
    "3. Calculate the mid as the average of left and right and set a variable required_days to 1 and a variable current_load to 0\n",
    "4. Simulate the loading process by iterating through the weights and if adding the current weight to the current_load exceeds the mid capacity, increment required_days by 1 and reset current_load to 0 and then add the current weight to the current_load.\n",
    "5. If the required_days is less than or equal to the number of days, update right to mid, otherwise, update left to mid + 1.\n",
    "6. Return the left pointer as the minimum weight capacity that can ship all packages within the days.\n",
    "\n",
    "Let's save and upload our work before continuing.\n",
    "\n"
   ]
  },
  {
   "cell_type": "code",
   "execution_count": null,
   "id": "419d2d4d",
   "metadata": {},
   "outputs": [],
   "source": [
    "jovian.commit()"
   ]
  },
  {
   "cell_type": "code",
   "execution_count": null,
   "id": "3c2b3dfe",
   "metadata": {},
   "outputs": [],
   "source": []
  },
  {
   "cell_type": "code",
   "execution_count": null,
   "id": "923e0cb7",
   "metadata": {},
   "outputs": [],
   "source": []
  },
  {
   "cell_type": "code",
   "execution_count": null,
   "id": "928a4ae2",
   "metadata": {},
   "outputs": [],
   "source": []
  },
  {
   "cell_type": "markdown",
   "id": "12d10b0c",
   "metadata": {},
   "source": [
    "### 8. Implement the solution and test it using example inputs. Fix bugs, if any."
   ]
  },
  {
   "cell_type": "code",
   "execution_count": 11,
   "id": "dd407508",
   "metadata": {},
   "outputs": [],
   "source": [
    "def shipWithinDays_bs(weights, days):\n",
    "    if not weights or days <= 0:\n",
    "        return 0\n",
    "\n",
    "    left = max(weights)\n",
    "    right = sum(weights)\n",
    "\n",
    "    while left < right:\n",
    "        mid = (left + right) // 2\n",
    "        required_days = 1\n",
    "        current_load = 0\n",
    "\n",
    "        # the loading process\n",
    "        for weight in weights:\n",
    "            if current_load + weight > mid:\n",
    "                required_days += 1\n",
    "                current_load = 0\n",
    "\n",
    "            current_load += weight\n",
    "\n",
    "        if required_days <= days:\n",
    "            right = mid\n",
    "        else:\n",
    "            left = mid + 1\n",
    "\n",
    "    return left"
   ]
  },
  {
   "cell_type": "code",
   "execution_count": 12,
   "id": "ba8a5104",
   "metadata": {},
   "outputs": [
    {
     "name": "stdout",
     "output_type": "stream",
     "text": [
      "\n",
      "\u001b[1mTEST CASE #0\u001b[0m\n",
      "\n",
      "Input:\n",
      "{'weights': [], 'days': 5}\n",
      "\n",
      "Expected Output:\n",
      "0\n",
      "\n",
      "\n",
      "Actual Output:\n",
      "0\n",
      "\n",
      "Execution Time:\n",
      "0.003 ms\n",
      "\n",
      "Test Result:\n",
      "\u001b[92mPASSED\u001b[0m\n",
      "\n",
      "\n",
      "\u001b[1mTEST CASE #1\u001b[0m\n",
      "\n",
      "Input:\n",
      "{'weights': [10, 20, 30, 40, 50], 'days': 0}\n",
      "\n",
      "Expected Output:\n",
      "0\n",
      "\n",
      "\n",
      "Actual Output:\n",
      "0\n",
      "\n",
      "Execution Time:\n",
      "0.002 ms\n",
      "\n",
      "Test Result:\n",
      "\u001b[92mPASSED\u001b[0m\n",
      "\n",
      "\n",
      "\u001b[1mTEST CASE #2\u001b[0m\n",
      "\n",
      "Input:\n",
      "{'weights': [5], 'days': 1}\n",
      "\n",
      "Expected Output:\n",
      "5\n",
      "\n",
      "\n",
      "Actual Output:\n",
      "5\n",
      "\n",
      "Execution Time:\n",
      "0.003 ms\n",
      "\n",
      "Test Result:\n",
      "\u001b[92mPASSED\u001b[0m\n",
      "\n",
      "\n",
      "\u001b[1mTEST CASE #3\u001b[0m\n",
      "\n",
      "Input:\n",
      "{'weights': [1, 2, 3, 4, 5], 'days': 1}\n",
      "\n",
      "Expected Output:\n",
      "15\n",
      "\n",
      "\n",
      "Actual Output:\n",
      "15\n",
      "\n",
      "Execution Time:\n",
      "0.005 ms\n",
      "\n",
      "Test Result:\n",
      "\u001b[92mPASSED\u001b[0m\n",
      "\n",
      "\n",
      "\u001b[1mTEST CASE #4\u001b[0m\n",
      "\n",
      "Input:\n",
      "{'weights': [1, 2, 3, 4, 5], 'days': 5}\n",
      "\n",
      "Expected Output:\n",
      "5\n",
      "\n",
      "\n",
      "Actual Output:\n",
      "5\n",
      "\n",
      "Execution Time:\n",
      "0.004 ms\n",
      "\n",
      "Test Result:\n",
      "\u001b[92mPASSED\u001b[0m\n",
      "\n",
      "\n",
      "\u001b[1mTEST CASE #5\u001b[0m\n",
      "\n",
      "Input:\n",
      "{'weights': [1, 1, 1, 1, 1, 1, 1, 1, 1, 1, 1, 1, 1, 1, 1, 1, 1, 1, 1, 1, 1, 1, 1, 1, 1, 1, 1, 1, 1, ...\n",
      "\n",
      "Expected Output:\n",
      "1000\n",
      "\n",
      "\n",
      "Actual Output:\n",
      "1000\n",
      "\n",
      "Execution Time:\n",
      "11.976 ms\n",
      "\n",
      "Test Result:\n",
      "\u001b[92mPASSED\u001b[0m\n",
      "\n",
      "\n",
      "\u001b[1mSUMMARY\u001b[0m\n",
      "\n",
      "TOTAL: 6, \u001b[92mPASSED\u001b[0m: 6, \u001b[91mFAILED\u001b[0m: 0\n"
     ]
    },
    {
     "data": {
      "text/plain": [
       "[(0, True, 0.003),\n",
       " (0, True, 0.002),\n",
       " (5, True, 0.003),\n",
       " (15, True, 0.005),\n",
       " (5, True, 0.004),\n",
       " (1000, True, 11.976)]"
      ]
     },
     "execution_count": 12,
     "metadata": {},
     "output_type": "execute_result"
    }
   ],
   "source": [
    "evaluate_test_cases(shipWithinDays_bs, tests)"
   ]
  },
  {
   "cell_type": "code",
   "execution_count": null,
   "id": "03d3dbc2",
   "metadata": {},
   "outputs": [],
   "source": []
  },
  {
   "cell_type": "code",
   "execution_count": null,
   "id": "f3e0aea8",
   "metadata": {},
   "outputs": [],
   "source": []
  },
  {
   "cell_type": "markdown",
   "id": "966d0573",
   "metadata": {},
   "source": [
    "### 9. Analyze the algorithm's complexity and identify inefficiencies, if any."
   ]
  },
  {
   "cell_type": "markdown",
   "id": "f48d4181",
   "metadata": {},
   "source": [
    "### Time complexity:\n",
    "* Finding the maximum weight and calculating the sum of all weights initially takes O(n) time, where n is the number of weights. \n",
    "* The binary search loop runs until the left and right pointers converge. In the worst case, it takes O(log(total_weight)) iterations, where total_weight is the sum of all weights.\n",
    "* In each iteration of the loop, the loading process takes O(n) time.\n",
    "* The overall time complexity of the binary search approach is O(n * log(total_weight)) in the worst case."
   ]
  },
  {
   "cell_type": "markdown",
   "id": "6d83cb9f",
   "metadata": {},
   "source": [
    "### Space Complexity:\n",
    "The space complexity is still O(1) because it uses a constant amount of additional space regardless of the input size."
   ]
  },
  {
   "cell_type": "code",
   "execution_count": null,
   "id": "f6a9182e",
   "metadata": {},
   "outputs": [],
   "source": []
  },
  {
   "cell_type": "markdown",
   "id": "ccb8030b",
   "metadata": {},
   "source": [
    "If you found the problem on an external platform, you can make a submission to test your solution.\n",
    "\n",
    "Share your approach and start a discussion on the Jovian forum: https://jovian.ai/forum/c/data-structures-and-algorithms-in-python/78"
   ]
  },
  {
   "cell_type": "code",
   "execution_count": 14,
   "id": "41962a37",
   "metadata": {},
   "outputs": [
    {
     "data": {
      "application/javascript": [
       "window.require && require([\"base/js/namespace\"],function(Jupyter){Jupyter.notebook.save_checkpoint()})"
      ],
      "text/plain": [
       "<IPython.core.display.Javascript object>"
      ]
     },
     "metadata": {},
     "output_type": "display_data"
    },
    {
     "name": "stdout",
     "output_type": "stream",
     "text": [
      "[jovian] Updating notebook \"khadaake/capacity-to-ship-packages\" on https://jovian.com\u001b[0m\n",
      "[jovian] Committed successfully! https://jovian.com/khadaake/capacity-to-ship-packages\u001b[0m\n"
     ]
    },
    {
     "data": {
      "text/plain": [
       "'https://jovian.com/khadaake/capacity-to-ship-packages'"
      ]
     },
     "execution_count": 14,
     "metadata": {},
     "output_type": "execute_result"
    }
   ],
   "source": [
    "jovian.commit()"
   ]
  },
  {
   "cell_type": "code",
   "execution_count": null,
   "id": "2a73b557",
   "metadata": {},
   "outputs": [],
   "source": []
  }
 ],
 "metadata": {
  "language_info": {
   "codemirror_mode": {
    "name": "ipython",
    "version": 3
   },
   "file_extension": ".py",
   "mimetype": "text/x-python",
   "name": "python",
   "nbconvert_exporter": "python",
   "pygments_lexer": "ipython3",
   "version": "3.9.7"
  }
 },
 "nbformat": 4,
 "nbformat_minor": 5
}